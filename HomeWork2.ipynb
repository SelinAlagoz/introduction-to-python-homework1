{
 "cells": [
  {
   "cell_type": "code",
   "execution_count": null,
   "metadata": {},
   "outputs": [],
   "source": [
    "bilgiler = []\n",
    "girdiler = [\"Adınız  :\",\"Soyadınız  :\",\"Yasınız  :\",\"Dogumyılınız  :\"]\n",
    "for i in range(0,len(girdiler)):\n",
    "    n=input(girdiler[i])\n",
    "    bilgiler.append(n)\n",
    "print((bilgiler))\n",
    "\n",
    "if int(bilgiler[2])<18:\n",
    "        print(f\"Your age {bilgiler[2]} years old. You can't go out because its too dangerous.\")\n",
    "else:\n",
    "        print(\"You can go out to street\")"
   ]
  }
 ],
 "metadata": {
  "kernelspec": {
   "display_name": "Python 3",
   "language": "python",
   "name": "python3"
  },
  "language_info": {
   "codemirror_mode": {
    "name": "ipython",
    "version": 3
   },
   "file_extension": ".py",
   "mimetype": "text/x-python",
   "name": "python",
   "nbconvert_exporter": "python",
   "pygments_lexer": "ipython3",
   "version": "3.9.1"
  }
 },
 "nbformat": 4,
 "nbformat_minor": 4
}
