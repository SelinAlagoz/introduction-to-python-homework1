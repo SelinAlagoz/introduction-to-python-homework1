{
 "cells": [
  {
   "cell_type": "code",
   "execution_count": null,
   "metadata": {},
   "outputs": [],
   "source": [
    "name=str(input(\"Lütfen Adınızı Giriniz :\"))\n",
    "last_name=str(input(\"Lütfen Soyadınızı Giriniz:\"))\n",
    "department=str(input(\"Lütfen Bölümünüzü Giriniz:\"))\n",
    "ıd_school=int(input(\"Lütfen Okul Numaranızı Giriniz:\"))\n",
    "score=float(input(\"Lütfen Son Sınavdan Aldığınız Puanı Giriniz:\"))\n",
    "bilgiler=[name,last_name,department,ıd_school,score]\n",
    "\n",
    "print(f'Senin İsmin {name} {last_name} ve bulunduğun bina {department}')\n",
    "print('İsminin veri tipi :',type(name),'\\n Soyadınızın veri tipi :',type(last_name),'\\n Bölümünüzün veri tipi:',type(department))\n",
    "print('Okul Numaranız : {} ve Son Sınavdan Aldığınız puan : {} '.format(bilgiler[3],bilgiler[4]))\n",
    "print('Okul Numaranızın veri tipi :',type(ıd_school),'\\n Sınav Puanınızın Veri Tipi :',type(score))"
   ]
  },
  {
   "cell_type": "code",
   "execution_count": null,
   "metadata": {},
   "outputs": [],
   "source": []
  },
  {
   "cell_type": "code",
   "execution_count": null,
   "metadata": {},
   "outputs": [],
   "source": []
  }
 ],
 "metadata": {
  "kernelspec": {
   "display_name": "Python 3",
   "language": "python",
   "name": "python3"
  },
  "language_info": {
   "codemirror_mode": {
    "name": "ipython",
    "version": 3
   },
   "file_extension": ".py",
   "mimetype": "text/x-python",
   "name": "python",
   "nbconvert_exporter": "python",
   "pygments_lexer": "ipython3",
   "version": "3.9.1"
  }
 },
 "nbformat": 4,
 "nbformat_minor": 4
}
